{
 "cells": [
  {
   "cell_type": "markdown",
   "metadata": {},
   "source": [
    "# Example on how to set up mock API requests\n",
    "\n",
    "In this notebook you will work through an example of how to build the necessary setup files so you can mock an API request using `mock-request`. In particular, you will store one response and its request parameters, as well as responses for a couple of errored responses.\n",
    "\n",
    "Here's the breakdown of the steps we'll follow:\n",
    "1. make a request to the Yelp API\n",
    "1. pickle the response \n",
    "1. save the request parameters and the pickle destination into a JSON file\n",
    "1. make errored requests and pickle the responses\n",
    "1. associate those errored responses with error codes (404, etc.), and pair them in a CSV file so that `mock-request` returns those responses when the same errors are found\n",
    "1. test out your setup by mocking the original request\n",
    "\n",
    "_Note: In addition to serving the purpose of creating an example, this notebook also creates files that can be used as unit tests._"
   ]
  },
  {
   "cell_type": "markdown",
   "metadata": {},
   "source": [
    "## 1. Make a request to the Yelp API"
   ]
  },
  {
   "cell_type": "code",
   "execution_count": 1,
   "metadata": {},
   "outputs": [],
   "source": [
    "import requests\n",
    "import pickle\n",
    "import yaml\n",
    "import pandas as pd"
   ]
  },
  {
   "cell_type": "code",
   "execution_count": 2,
   "metadata": {},
   "outputs": [],
   "source": [
    "# To save the requests information\n",
    "from mock_request.utils import save_requests_info"
   ]
  },
  {
   "cell_type": "markdown",
   "metadata": {},
   "source": [
    "You must create the `./.private/api_key.yml` YAML file with the following structure:\n",
    "\n",
    "```\n",
    "- API_KEY:\n",
    "    <YOUR API KEY VALUE>\n",
    "```\n",
    "\n",
    "_(Alternatively, while not recommended, you can just write your API key into `API_KEY`)._"
   ]
  },
  {
   "cell_type": "code",
   "execution_count": 3,
   "metadata": {},
   "outputs": [],
   "source": [
    "# Read API key\n",
    "with open(\"./.private/api_key.yml\", \"r\") as f:\n",
    "    API_KEY = yaml.load(f)[0][\"API_KEY\"]"
   ]
  },
  {
   "cell_type": "code",
   "execution_count": 4,
   "metadata": {},
   "outputs": [],
   "source": [
    "# Define the base URL for the request\n",
    "base_url = \"https://api.yelp.com/v3/businesses/search\"\n",
    "\n",
    "# Set up the request headers -- API key is used here\n",
    "headers = {\"Authorization\": \"Bearer \" + API_KEY}"
   ]
  },
  {
   "cell_type": "code",
   "execution_count": 5,
   "metadata": {},
   "outputs": [],
   "source": [
    "# Define the request parameters\n",
    "params = {\n",
    "    \"location\": \"Newark, NJ\",\n",
    "    \"term\": \"laundromat\",\n",
    "    \"limit\": 5\n",
    "}"
   ]
  },
  {
   "cell_type": "code",
   "execution_count": 6,
   "metadata": {},
   "outputs": [],
   "source": [
    "# Make the request\n",
    "response = requests.get(\n",
    "    base_url,\n",
    "    headers=headers,\n",
    "    params=params\n",
    ")"
   ]
  },
  {
   "cell_type": "markdown",
   "metadata": {},
   "source": [
    "## 2. Pickle the obtained response\n",
    "\n",
    "Great, now that we have the response it looks like we're ready to save it to disk. But watch out! The response contains the request, which contains the API key (you can see this by exploring the `response.request.headers` attribute). Since we don't want an exposed key in the pickle object we may share with others or have in production code, let's delete it from the response before before saving it."
   ]
  },
  {
   "cell_type": "code",
   "execution_count": 7,
   "metadata": {},
   "outputs": [],
   "source": [
    "def pickle_response(response, path, auth_header=\"Authorization\"):\n",
    "    \"\"\"Save a response object as a pickle file.\n",
    "    \n",
    "    The API key authentication header will be deleted if the proper\n",
    "    \n",
    "    :param response: A response object containing an API request and \n",
    "        response.\n",
    "    :param path: Path to file for pickled response.\n",
    "    :param auth_header: Key to the value in the API request headers\n",
    "        holding the API key (if any). Defaults to \"Authorization\".\n",
    "    \n",
    "    \"\"\"\n",
    "\n",
    "    if  auth_header in response.request.headers.keys():\n",
    "        del response.request.headers[auth_header]\n",
    "        \n",
    "    else:\n",
    "        print(\"\"\"WARNING! API authentication key has not been deleted from the response. \n",
    "              Please check the value passed to the `auth_header` parameter.\"\"\")\n",
    "\n",
    "    with open(path, \"wb\") as f:\n",
    "        pickle.dump(response, f)\n",
    "        \n",
    "        \n",
    "# Pickle the response withou the \"Authorization\" field\n",
    "pickle_response(response, \"./yelp-api-laundromat-newark-response.pkl\")"
   ]
  },
  {
   "cell_type": "markdown",
   "metadata": {},
   "source": [
    "## 3. Save objects for valid responses\n",
    "In this example we only have one valid response, but as you'll see the procedure below can easily be extended to multiple requests."
   ]
  },
  {
   "cell_type": "code",
   "execution_count": 8,
   "metadata": {},
   "outputs": [],
   "source": [
    "# Store requests parameter and the paths to the pickle file in a dict\n",
    "test_params = params.copy()\n",
    "test_params[\"base_url\"] = base_url\n",
    "test_params[\"pickle_path\"] = \"./yelp-api-laundromat-newark-response.pkl\"\n",
    "\n",
    "# Save list of dictionaries (containing pickled requests and their parameters) to JSON\n",
    "save_requests_info([test_params], \"./requests_info_tests.json\")"
   ]
  },
  {
   "cell_type": "markdown",
   "metadata": {},
   "source": [
    "Let's look at the file we just created."
   ]
  },
  {
   "cell_type": "code",
   "execution_count": 9,
   "metadata": {},
   "outputs": [
    {
     "name": "stdout",
     "output_type": "stream",
     "text": [
      "[{\"location\": \"Newark, NJ\", \"term\": \"laundromat\", \"limit\": 5, \"base_url\": \"https://api.yelp.com/v3/businesses/search\", \"pickle_path\": \"./yelp-api-laundromat-newark-response.pkl\"}]"
     ]
    }
   ],
   "source": [
    "!cat requests_info_tests.json "
   ]
  },
  {
   "cell_type": "markdown",
   "metadata": {},
   "source": [
    "## 4. Errored requests\n",
    "During the usage of `mock-request`, if you may want to set up a few error cases so that the user experience is more realistic (e.g if the request headers are missing). These errored responses are categorized by their _error codes_, and then saved as pickle files listed in a simple CSV."
   ]
  },
  {
   "cell_type": "code",
   "execution_count": 10,
   "metadata": {
    "scrolled": true
   },
   "outputs": [],
   "source": [
    "# Parameters for few intentionally wrong request parameters\n",
    "errored_requests_params = [\n",
    "    # Wrong base URL\n",
    "    {\n",
    "        \"pickle_file\": \"./yelp-api-wrong-base-url-response.pkl\",\n",
    "        \"url\": \"https://api.yelp.com/v3/a_wrong_url\",\n",
    "        \"headers\": headers,\n",
    "        \"params\": params\n",
    "    },\n",
    "    \n",
    "    # Invalid API key\n",
    "    {\n",
    "        \"pickle_file\": \"./yelp-api-invalid-key-response.pkl\",\n",
    "        \"url\": base_url,\n",
    "        \"params\": params,\n",
    "        \"headers\": {\"Authorization\": \"Bearer \" + \"INVALID-API-KEY\"}\n",
    "    },\n",
    "    \n",
    "    # Wrong location parameter name\n",
    "    {\n",
    "        \"pickle_file\": \"./yelp-api-wrong-location-parameter-response.pkl\",\n",
    "        \"url\": base_url,\n",
    "        \"headers\": headers,\n",
    "        \"params\": {\n",
    "            \"locationnnnnnn\": \"Newark, NJ\",\n",
    "            \"term\": \"laundromat\",\n",
    "            \"limit\": 5\n",
    "        }\n",
    "    }\n",
    "]"
   ]
  },
  {
   "cell_type": "code",
   "execution_count": 11,
   "metadata": {},
   "outputs": [],
   "source": [
    "# Create lists of error codes and paths to pickled errored responses\n",
    "error_codes = []\n",
    "errored_response_paths = []\n",
    "\n",
    "for erp in errored_requests_params:\n",
    "    \n",
    "    path = erp[\"pickle_file\"]\n",
    "        \n",
    "    del(erp[\"pickle_file\"])\n",
    "\n",
    "    # Pickle errored response\n",
    "    r = requests.get(**erp)\n",
    "    \n",
    "    pickle_response(r, path)\n",
    "\n",
    "    # Save error code and path\n",
    "    error_codes.append(r.status_code)\n",
    "    errored_response_paths.append(path)\n",
    "                    \n",
    "        \n",
    "# Create dataframe with error codes and paths\n",
    "errors_tests = pd.DataFrame({\n",
    "    \"error_type\": error_codes,\n",
    "    \"pickle_path\": errored_response_paths\n",
    "})\n",
    "\n",
    "# Save dataframe to CSV file\n",
    "errors_tests.to_csv(\"./errors_tests.csv\", index=False)"
   ]
  },
  {
   "cell_type": "markdown",
   "metadata": {},
   "source": [
    "The warning we see is from the example with no headers. So no worries, the API key has not been exposed! \n",
    "\n",
    "Let's explore the CSV file we created."
   ]
  },
  {
   "cell_type": "code",
   "execution_count": 12,
   "metadata": {},
   "outputs": [
    {
     "name": "stdout",
     "output_type": "stream",
     "text": [
      "error_type,pickle_path\r\n",
      "404,./yelp-api-wrong-base-url-response.pkl\r\n",
      "400,./yelp-api-invalid-key-response.pkl\r\n",
      "400,./yelp-api-wrong-location-parameter-response.pkl\r\n"
     ]
    }
   ],
   "source": [
    "!cat ./errors_tests.csv"
   ]
  },
  {
   "cell_type": "markdown",
   "metadata": {},
   "source": [
    "## 5. Using these files to mock a request\n",
    "\n"
   ]
  },
  {
   "cell_type": "code",
   "execution_count": 13,
   "metadata": {},
   "outputs": [
    {
     "data": {
      "text/plain": [
       "mock_request.requests.MockRequests"
      ]
     },
     "execution_count": 13,
     "metadata": {},
     "output_type": "execute_result"
    }
   ],
   "source": [
    "from mock_request.requests import MockRequests\n",
    "\n",
    "requests = MockRequests(\"./requests_info_tests.json\", \"./errors_tests.csv\")\n",
    "\n",
    "type(requests)"
   ]
  },
  {
   "cell_type": "markdown",
   "metadata": {},
   "source": [
    "So now we're all set to mock the request! We write the exact same code as in cell `[6]`, but since the `requests` object is holding a `MockRequests` object (instead of the `requests` library), so we're calling a completely different function that does _not_ execute the request but rather loads the response from disk. Try disconnecting from the internet before you run the rest of this code!"
   ]
  },
  {
   "cell_type": "code",
   "execution_count": 14,
   "metadata": {},
   "outputs": [],
   "source": [
    "# Execute mock request, using the same code as in [6]\n",
    "mocked_response = requests.get(\n",
    "    base_url,\n",
    "    headers=headers,\n",
    "    params=params\n",
    ")"
   ]
  },
  {
   "cell_type": "markdown",
   "metadata": {},
   "source": [
    "Are the response contents of the original response and the mocked response the same?"
   ]
  },
  {
   "cell_type": "code",
   "execution_count": 15,
   "metadata": {
    "scrolled": true
   },
   "outputs": [
    {
     "data": {
      "text/plain": [
       "True"
      ]
     },
     "execution_count": 15,
     "metadata": {},
     "output_type": "execute_result"
    }
   ],
   "source": [
    "mocked_response.json() == response.json()"
   ]
  },
  {
   "cell_type": "markdown",
   "metadata": {},
   "source": [
    "They are the same, so the mocked request worked!"
   ]
  }
 ],
 "metadata": {
  "kernelspec": {
   "display_name": "Python 3",
   "language": "python",
   "name": "python3"
  },
  "language_info": {
   "codemirror_mode": {
    "name": "ipython",
    "version": 3
   },
   "file_extension": ".py",
   "mimetype": "text/x-python",
   "name": "python",
   "nbconvert_exporter": "python",
   "pygments_lexer": "ipython3",
   "version": "3.6.9"
  }
 },
 "nbformat": 4,
 "nbformat_minor": 2
}
