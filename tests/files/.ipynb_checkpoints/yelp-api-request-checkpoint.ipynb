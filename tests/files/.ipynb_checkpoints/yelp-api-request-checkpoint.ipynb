{
 "cells": [
  {
   "cell_type": "markdown",
   "metadata": {},
   "source": [
    "# Example: Yelp API request\n",
    "\n",
    "In this notebook we \n",
    "1. make a request to the Yelp (www.yelp.com) API. \n",
    "1. pickle that request's response, and create a JSON file that will serve as input to `mock-request`\n",
    "1. make errored requests and pickle the responses\n",
    "1. associate those errored responses with error codes (404, etc.), and pair them in a CSV file so that `mock-request` returns those responses when the same errors are found"
   ]
  },
  {
   "cell_type": "code",
   "execution_count": 6,
   "metadata": {},
   "outputs": [],
   "source": [
    "import requests\n",
    "import pickle\n",
    "import yaml\n",
    "import pandas as pd"
   ]
  },
  {
   "cell_type": "code",
   "execution_count": 7,
   "metadata": {},
   "outputs": [],
   "source": [
    "# To save the requests information\n",
    "from mock_request.utils import save_requests_info"
   ]
  },
  {
   "cell_type": "markdown",
   "metadata": {},
   "source": [
    "You must create the `./.private/api_key.yml` YAML file with the following structure:\n",
    "\n",
    "```\n",
    "- API_KEY:\n",
    "    <YOUR API KEY VALUE>\n",
    "```\n",
    "\n",
    "_(Alternatively, while not recommended, you can just write your API key into `API_KEY`)._"
   ]
  },
  {
   "cell_type": "code",
   "execution_count": 8,
   "metadata": {},
   "outputs": [],
   "source": [
    "# Read API key\n",
    "with open(\"./.private/api_key.yml\", \"r\") as f:\n",
    "    API_KEY = yaml.load(f)[0][\"API_KEY\"]"
   ]
  },
  {
   "cell_type": "code",
   "execution_count": 9,
   "metadata": {},
   "outputs": [],
   "source": [
    "# Define the base URL for the request\n",
    "base_url = \"https://api.yelp.com/v3/businesses/search\"\n",
    "\n",
    "# Set up the request headers -- API key is used here\n",
    "headers = {\"Authorization\": \"Bearer \" + API_KEY}"
   ]
  },
  {
   "cell_type": "code",
   "execution_count": 10,
   "metadata": {},
   "outputs": [],
   "source": [
    "# Define the request parameters\n",
    "params = {\n",
    "    \"location\": \"Newark, NJ\",\n",
    "    \"term\": \"laundromat\",\n",
    "    \"limit\": 5\n",
    "}"
   ]
  },
  {
   "cell_type": "code",
   "execution_count": 11,
   "metadata": {},
   "outputs": [],
   "source": [
    "# Make the request\n",
    "response = requests.get(\n",
    "    base_url,\n",
    "    headers=headers,\n",
    "    params=params\n",
    ")"
   ]
  },
  {
   "cell_type": "markdown",
   "metadata": {},
   "source": [
    "But watch out! The response contains the request, which contains the API key"
   ]
  },
  {
   "cell_type": "code",
   "execution_count": 26,
   "metadata": {},
   "outputs": [],
   "source": [
    "\n",
    "\n",
    "# Pickle the response, deleting the \"Authorization\" field first\n",
    "\n",
    "def pickle_response(response, path, auth_header=\"Authorization\"):\n",
    "    \"\"\"Save a response object as a pickle file.\n",
    "    \n",
    "    The API key authentication header will be deleted if the proper\n",
    "    \n",
    "    :param response: A response object containing an API request and \n",
    "        response.\n",
    "    :param path: Path to file for pickled response.\n",
    "    :param auth_header: Key to the value in the API request headers\n",
    "        holding the API key (if any). Defaults to \"Authorization\".\n",
    "    \n",
    "    \"\"\"\n",
    "\n",
    "    if  auth_header in response.request.headers.keys():\n",
    "        del response.request.headers[auth_header]\n",
    "        \n",
    "    else:\n",
    "        print(\"\"\"WARNING! API authentication key has not been deleted from the response. \n",
    "              Please check the value passed to the `auth_header` parameter.\"\"\")\n",
    "\n",
    "    with open(path, \"wb\") as f:\n",
    "        pickle.dump(response, f)\n",
    "        \n",
    "\n",
    "pickle_response(response, \"./yelp-api-laundromat-newark-response.pkl\")"
   ]
  },
  {
   "cell_type": "markdown",
   "metadata": {},
   "source": [
    "# Save objects for tests"
   ]
  },
  {
   "cell_type": "markdown",
   "metadata": {},
   "source": [
    "### Correct requests/responses"
   ]
  },
  {
   "cell_type": "code",
   "execution_count": 10,
   "metadata": {},
   "outputs": [],
   "source": [
    "test_params = params.copy()\n",
    "test_params[\"base_url\"] = base_url\n",
    "test_params[\"pickle_path\"] = \"./yelp-api-laundromat-newark-response.pkl\"\n",
    "save_requests_info([test_params], \"./requests_info_tests.json\")"
   ]
  },
  {
   "cell_type": "markdown",
   "metadata": {},
   "source": [
    "### Errored requests"
   ]
  },
  {
   "cell_type": "code",
   "execution_count": 28,
   "metadata": {
    "scrolled": true
   },
   "outputs": [],
   "source": [
    "# A few intentionally wrong request parameters\n",
    "errored_requests = [\n",
    "    # Wrong base URL\n",
    "    {\n",
    "        \"pickle_file\": \"./yelp-api-wrong-base-url-response.pkl\",\n",
    "        \"url\": \"https://api.yelp.com/v3/a_wrong_url\",\n",
    "        \"headers\": headers,\n",
    "        \"params\": params\n",
    "    },\n",
    "    \n",
    "    # Missing API key\n",
    "    {\n",
    "        \"pickle_file\": \"./yelp-api-missing-key-response.pkl\",\n",
    "        \"url\": base_url,\n",
    "        \"params\": params,\n",
    "        \"headers\": {}\n",
    "    },\n",
    "    \n",
    "    # Wrong location parameter name\n",
    "    {\n",
    "        \"pickle_file\": \"./yelp-api-wrong-location-parameter-response.pkl\",\n",
    "        \"url\": base_url,\n",
    "        \"headers\": headers,\n",
    "        \"params\": {\n",
    "            \"locationnnnnnn\": \"Newark, NJ\",\n",
    "            \"term\": \"laundromat\",\n",
    "            \"limit\": 5\n",
    "        }\n",
    "    }\n",
    "]\n",
    "\n",
    "error_codes = []\n",
    "errored_response_paths = []\n",
    "\n",
    "for er in errored_requests:\n",
    "    \n",
    "    path = er[\"pickle_file\"]\n",
    "        \n",
    "    del(er[\"pickle_file\"])\n",
    "\n",
    "    # Pickle errored response\n",
    "    r = requests.get(**er)\n",
    "    \n",
    "    pickle_response(r, path)\n",
    "\n",
    "    # Save error code and path\n",
    "    error_codes.append(r.status_code)\n",
    "    errored_response_paths.append(path)\n",
    "                    \n",
    "        \n",
    "# Create dataframe with error codes and paths\n",
    "errors_tests = pd.DataFrame({\n",
    "    \"error_type\": error_codes,\n",
    "    \"pickle_file\": errored_response_paths\n",
    "})\n",
    "\n",
    "# Save dataframe to CSV file\n",
    "errors_tests.to_csv(\"./errors_tests.csv\")"
   ]
  }
 ],
 "metadata": {
  "kernelspec": {
   "display_name": "Python 3",
   "language": "python",
   "name": "python3"
  },
  "language_info": {
   "codemirror_mode": {
    "name": "ipython",
    "version": 3
   },
   "file_extension": ".py",
   "mimetype": "text/x-python",
   "name": "python",
   "nbconvert_exporter": "python",
   "pygments_lexer": "ipython3",
   "version": "3.6.9"
  }
 },
 "nbformat": 4,
 "nbformat_minor": 2
}
